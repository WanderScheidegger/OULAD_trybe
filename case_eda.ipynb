{
    "cells": [
        {
            "cell_type": "markdown",
            "source": [
                "\n",
                "<img src='logo_trybe.png'></a>"
            ],
            "metadata": {}
        },
        {
            "cell_type": "markdown",
            "source": [
                "# Análise Exploratória - Case  - Open University Learning Analytics dataset"
            ],
            "metadata": {}
        },
        {
            "cell_type": "code",
            "execution_count": 1,
            "source": [
                "import pandas as pd\n",
                "import numpy as np\n",
                "import matplotlib.pyplot as plt\n",
                "import seaborn as sns\n",
                "\n",
                "import warnings\n",
                "warnings.filterwarnings(\"ignore\")"
            ],
            "outputs": [],
            "metadata": {}
        },
        {
            "cell_type": "markdown",
            "source": [
                "## Informações sobre os estudantes"
            ],
            "metadata": {}
        },
        {
            "cell_type": "code",
            "execution_count": 2,
            "source": [
                " #dataset studentInfo.csv\n",
                "\n",
                " studentInfo = pd.read_csv('data/studentInfo.csv', sep=',', encoding='ISO-8859-1')"
            ],
            "outputs": [],
            "metadata": {}
        },
        {
            "cell_type": "code",
            "execution_count": 3,
            "source": [
                "studentInfo.sample(20).head()"
            ],
            "outputs": [
                {
                    "output_type": "execute_result",
                    "data": {
                        "text/plain": [
                            "      code_module code_presentation  id_student gender                region  \\\n",
                            "9583          CCC             2014B      583052      M   East Anglian Region   \n",
                            "28083         FFF             2014J      504700      M     South West Region   \n",
                            "17241         DDD             2014B      628246      M         London Region   \n",
                            "21144         EEE             2014J      190780      M              Scotland   \n",
                            "30059         GGG             2013J       24391      M  East Midlands Region   \n",
                            "\n",
                            "           highest_education imd_band age_band  num_of_prev_attempts  \\\n",
                            "9583   A Level or Equivalent  90-100%     0-35                     0   \n",
                            "28083  A Level or Equivalent   20-30%     0-35                     2   \n",
                            "17241  A Level or Equivalent   40-50%    35-55                     0   \n",
                            "21144       HE Qualification   60-70%     0-35                     0   \n",
                            "30059  A Level or Equivalent   80-90%     0-35                     0   \n",
                            "\n",
                            "       studied_credits disability final_result  \n",
                            "9583                60          N         Pass  \n",
                            "28083               60          N    Withdrawn  \n",
                            "17241               60          N         Pass  \n",
                            "21144              120          N         Pass  \n",
                            "30059               30          N  Distinction  "
                        ],
                        "text/html": [
                            "<div>\n",
                            "<style scoped>\n",
                            "    .dataframe tbody tr th:only-of-type {\n",
                            "        vertical-align: middle;\n",
                            "    }\n",
                            "\n",
                            "    .dataframe tbody tr th {\n",
                            "        vertical-align: top;\n",
                            "    }\n",
                            "\n",
                            "    .dataframe thead th {\n",
                            "        text-align: right;\n",
                            "    }\n",
                            "</style>\n",
                            "<table border=\"1\" class=\"dataframe\">\n",
                            "  <thead>\n",
                            "    <tr style=\"text-align: right;\">\n",
                            "      <th></th>\n",
                            "      <th>code_module</th>\n",
                            "      <th>code_presentation</th>\n",
                            "      <th>id_student</th>\n",
                            "      <th>gender</th>\n",
                            "      <th>region</th>\n",
                            "      <th>highest_education</th>\n",
                            "      <th>imd_band</th>\n",
                            "      <th>age_band</th>\n",
                            "      <th>num_of_prev_attempts</th>\n",
                            "      <th>studied_credits</th>\n",
                            "      <th>disability</th>\n",
                            "      <th>final_result</th>\n",
                            "    </tr>\n",
                            "  </thead>\n",
                            "  <tbody>\n",
                            "    <tr>\n",
                            "      <th>9583</th>\n",
                            "      <td>CCC</td>\n",
                            "      <td>2014B</td>\n",
                            "      <td>583052</td>\n",
                            "      <td>M</td>\n",
                            "      <td>East Anglian Region</td>\n",
                            "      <td>A Level or Equivalent</td>\n",
                            "      <td>90-100%</td>\n",
                            "      <td>0-35</td>\n",
                            "      <td>0</td>\n",
                            "      <td>60</td>\n",
                            "      <td>N</td>\n",
                            "      <td>Pass</td>\n",
                            "    </tr>\n",
                            "    <tr>\n",
                            "      <th>28083</th>\n",
                            "      <td>FFF</td>\n",
                            "      <td>2014J</td>\n",
                            "      <td>504700</td>\n",
                            "      <td>M</td>\n",
                            "      <td>South West Region</td>\n",
                            "      <td>A Level or Equivalent</td>\n",
                            "      <td>20-30%</td>\n",
                            "      <td>0-35</td>\n",
                            "      <td>2</td>\n",
                            "      <td>60</td>\n",
                            "      <td>N</td>\n",
                            "      <td>Withdrawn</td>\n",
                            "    </tr>\n",
                            "    <tr>\n",
                            "      <th>17241</th>\n",
                            "      <td>DDD</td>\n",
                            "      <td>2014B</td>\n",
                            "      <td>628246</td>\n",
                            "      <td>M</td>\n",
                            "      <td>London Region</td>\n",
                            "      <td>A Level or Equivalent</td>\n",
                            "      <td>40-50%</td>\n",
                            "      <td>35-55</td>\n",
                            "      <td>0</td>\n",
                            "      <td>60</td>\n",
                            "      <td>N</td>\n",
                            "      <td>Pass</td>\n",
                            "    </tr>\n",
                            "    <tr>\n",
                            "      <th>21144</th>\n",
                            "      <td>EEE</td>\n",
                            "      <td>2014J</td>\n",
                            "      <td>190780</td>\n",
                            "      <td>M</td>\n",
                            "      <td>Scotland</td>\n",
                            "      <td>HE Qualification</td>\n",
                            "      <td>60-70%</td>\n",
                            "      <td>0-35</td>\n",
                            "      <td>0</td>\n",
                            "      <td>120</td>\n",
                            "      <td>N</td>\n",
                            "      <td>Pass</td>\n",
                            "    </tr>\n",
                            "    <tr>\n",
                            "      <th>30059</th>\n",
                            "      <td>GGG</td>\n",
                            "      <td>2013J</td>\n",
                            "      <td>24391</td>\n",
                            "      <td>M</td>\n",
                            "      <td>East Midlands Region</td>\n",
                            "      <td>A Level or Equivalent</td>\n",
                            "      <td>80-90%</td>\n",
                            "      <td>0-35</td>\n",
                            "      <td>0</td>\n",
                            "      <td>30</td>\n",
                            "      <td>N</td>\n",
                            "      <td>Distinction</td>\n",
                            "    </tr>\n",
                            "  </tbody>\n",
                            "</table>\n",
                            "</div>"
                        ]
                    },
                    "metadata": {},
                    "execution_count": 3
                }
            ],
            "metadata": {}
        },
        {
            "cell_type": "code",
            "execution_count": 4,
            "source": [
                "studentInfo['code_module'].unique()"
            ],
            "outputs": [
                {
                    "output_type": "execute_result",
                    "data": {
                        "text/plain": [
                            "array(['AAA', 'BBB', 'CCC', 'DDD', 'EEE', 'FFF', 'GGG'], dtype=object)"
                        ]
                    },
                    "metadata": {},
                    "execution_count": 4
                }
            ],
            "metadata": {}
        },
        {
            "cell_type": "markdown",
            "source": [
                "____\n",
                "## Analisando o gênero declarado\n",
                "* Quantidades"
            ],
            "metadata": {}
        },
        {
            "cell_type": "code",
            "execution_count": 5,
            "source": [
                "studentInfo['gender'].unique()"
            ],
            "outputs": [
                {
                    "output_type": "execute_result",
                    "data": {
                        "text/plain": [
                            "array(['M', 'F'], dtype=object)"
                        ]
                    },
                    "metadata": {},
                    "execution_count": 5
                }
            ],
            "metadata": {}
        },
        {
            "cell_type": "code",
            "execution_count": 40,
            "source": [
                "#plota as quantidades\n",
                "genero = studentInfo.groupby('gender').count().reset_index()[['gender', 'code_module']].\\\n",
                "    rename(columns={\"code_module\": \"Qtde\", \"gender\": \"Genero\"})\n",
                "fig = px.bar(genero, x='Genero', y='Qtde', template=\"seaborn\")\n",
                "fig.update_layout(\n",
                "    margin=dict(l=20, r=50, t=50, b=20),\n",
                "    title = 'Distribuição - Gênero',\n",
                "    width=600, \n",
                "    height=400,\n",
                "    \n",
                ")\n",
                "fig.show()"
            ],
            "outputs": [
                {
                    "output_type": "display_data",
                    "data": {
                        "application/vnd.plotly.v1+json": {
                            "config": {
                                "plotlyServerURL": "https://plot.ly"
                            },
                            "data": [
                                {
                                    "alignmentgroup": "True",
                                    "hovertemplate": "Genero=%{x}<br>Qtde=%{y}<extra></extra>",
                                    "legendgroup": "",
                                    "marker": {
                                        "color": "rgb(76,114,176)",
                                        "pattern": {
                                            "shape": ""
                                        }
                                    },
                                    "name": "",
                                    "offsetgroup": "",
                                    "orientation": "v",
                                    "showlegend": false,
                                    "textposition": "auto",
                                    "type": "bar",
                                    "x": [
                                        "F",
                                        "M"
                                    ],
                                    "xaxis": "x",
                                    "y": [
                                        14718,
                                        17875
                                    ],
                                    "yaxis": "y"
                                }
                            ],
                            "layout": {
                                "barmode": "relative",
                                "height": 400,
                                "legend": {
                                    "tracegroupgap": 0
                                },
                                "margin": {
                                    "b": 20,
                                    "l": 20,
                                    "r": 50,
                                    "t": 50
                                },
                                "template": {
                                    "data": {
                                        "bar": [
                                            {
                                                "error_x": {
                                                    "color": "rgb(36,36,36)"
                                                },
                                                "error_y": {
                                                    "color": "rgb(36,36,36)"
                                                },
                                                "marker": {
                                                    "line": {
                                                        "color": "rgb(234,234,242)",
                                                        "width": 0.5
                                                    },
                                                    "pattern": {
                                                        "fillmode": "overlay",
                                                        "size": 10,
                                                        "solidity": 0.2
                                                    }
                                                },
                                                "type": "bar"
                                            }
                                        ],
                                        "barpolar": [
                                            {
                                                "marker": {
                                                    "line": {
                                                        "color": "rgb(234,234,242)",
                                                        "width": 0.5
                                                    },
                                                    "pattern": {
                                                        "fillmode": "overlay",
                                                        "size": 10,
                                                        "solidity": 0.2
                                                    }
                                                },
                                                "type": "barpolar"
                                            }
                                        ],
                                        "carpet": [
                                            {
                                                "aaxis": {
                                                    "endlinecolor": "rgb(36,36,36)",
                                                    "gridcolor": "white",
                                                    "linecolor": "white",
                                                    "minorgridcolor": "white",
                                                    "startlinecolor": "rgb(36,36,36)"
                                                },
                                                "baxis": {
                                                    "endlinecolor": "rgb(36,36,36)",
                                                    "gridcolor": "white",
                                                    "linecolor": "white",
                                                    "minorgridcolor": "white",
                                                    "startlinecolor": "rgb(36,36,36)"
                                                },
                                                "type": "carpet"
                                            }
                                        ],
                                        "choropleth": [
                                            {
                                                "colorbar": {
                                                    "outlinewidth": 0,
                                                    "tickcolor": "rgb(36,36,36)",
                                                    "ticklen": 8,
                                                    "ticks": "outside",
                                                    "tickwidth": 2
                                                },
                                                "type": "choropleth"
                                            }
                                        ],
                                        "contour": [
                                            {
                                                "colorbar": {
                                                    "outlinewidth": 0,
                                                    "tickcolor": "rgb(36,36,36)",
                                                    "ticklen": 8,
                                                    "ticks": "outside",
                                                    "tickwidth": 2
                                                },
                                                "colorscale": [
                                                    [
                                                        0,
                                                        "rgb(2,4,25)"
                                                    ],
                                                    [
                                                        0.06274509803921569,
                                                        "rgb(24,15,41)"
                                                    ],
                                                    [
                                                        0.12549019607843137,
                                                        "rgb(47,23,57)"
                                                    ],
                                                    [
                                                        0.18823529411764706,
                                                        "rgb(71,28,72)"
                                                    ],
                                                    [
                                                        0.25098039215686274,
                                                        "rgb(97,30,82)"
                                                    ],
                                                    [
                                                        0.3137254901960784,
                                                        "rgb(123,30,89)"
                                                    ],
                                                    [
                                                        0.3764705882352941,
                                                        "rgb(150,27,91)"
                                                    ],
                                                    [
                                                        0.4392156862745098,
                                                        "rgb(177,22,88)"
                                                    ],
                                                    [
                                                        0.5019607843137255,
                                                        "rgb(203,26,79)"
                                                    ],
                                                    [
                                                        0.5647058823529412,
                                                        "rgb(223,47,67)"
                                                    ],
                                                    [
                                                        0.6274509803921569,
                                                        "rgb(236,76,61)"
                                                    ],
                                                    [
                                                        0.6901960784313725,
                                                        "rgb(242,107,73)"
                                                    ],
                                                    [
                                                        0.7529411764705882,
                                                        "rgb(244,135,95)"
                                                    ],
                                                    [
                                                        0.8156862745098039,
                                                        "rgb(245,162,122)"
                                                    ],
                                                    [
                                                        0.8784313725490196,
                                                        "rgb(246,188,153)"
                                                    ],
                                                    [
                                                        0.9411764705882353,
                                                        "rgb(247,212,187)"
                                                    ],
                                                    [
                                                        1,
                                                        "rgb(250,234,220)"
                                                    ]
                                                ],
                                                "type": "contour"
                                            }
                                        ],
                                        "contourcarpet": [
                                            {
                                                "colorbar": {
                                                    "outlinewidth": 0,
                                                    "tickcolor": "rgb(36,36,36)",
                                                    "ticklen": 8,
                                                    "ticks": "outside",
                                                    "tickwidth": 2
                                                },
                                                "type": "contourcarpet"
                                            }
                                        ],
                                        "heatmap": [
                                            {
                                                "colorbar": {
                                                    "outlinewidth": 0,
                                                    "tickcolor": "rgb(36,36,36)",
                                                    "ticklen": 8,
                                                    "ticks": "outside",
                                                    "tickwidth": 2
                                                },
                                                "colorscale": [
                                                    [
                                                        0,
                                                        "rgb(2,4,25)"
                                                    ],
                                                    [
                                                        0.06274509803921569,
                                                        "rgb(24,15,41)"
                                                    ],
                                                    [
                                                        0.12549019607843137,
                                                        "rgb(47,23,57)"
                                                    ],
                                                    [
                                                        0.18823529411764706,
                                                        "rgb(71,28,72)"
                                                    ],
                                                    [
                                                        0.25098039215686274,
                                                        "rgb(97,30,82)"
                                                    ],
                                                    [
                                                        0.3137254901960784,
                                                        "rgb(123,30,89)"
                                                    ],
                                                    [
                                                        0.3764705882352941,
                                                        "rgb(150,27,91)"
                                                    ],
                                                    [
                                                        0.4392156862745098,
                                                        "rgb(177,22,88)"
                                                    ],
                                                    [
                                                        0.5019607843137255,
                                                        "rgb(203,26,79)"
                                                    ],
                                                    [
                                                        0.5647058823529412,
                                                        "rgb(223,47,67)"
                                                    ],
                                                    [
                                                        0.6274509803921569,
                                                        "rgb(236,76,61)"
                                                    ],
                                                    [
                                                        0.6901960784313725,
                                                        "rgb(242,107,73)"
                                                    ],
                                                    [
                                                        0.7529411764705882,
                                                        "rgb(244,135,95)"
                                                    ],
                                                    [
                                                        0.8156862745098039,
                                                        "rgb(245,162,122)"
                                                    ],
                                                    [
                                                        0.8784313725490196,
                                                        "rgb(246,188,153)"
                                                    ],
                                                    [
                                                        0.9411764705882353,
                                                        "rgb(247,212,187)"
                                                    ],
                                                    [
                                                        1,
                                                        "rgb(250,234,220)"
                                                    ]
                                                ],
                                                "type": "heatmap"
                                            }
                                        ],
                                        "heatmapgl": [
                                            {
                                                "colorbar": {
                                                    "outlinewidth": 0,
                                                    "tickcolor": "rgb(36,36,36)",
                                                    "ticklen": 8,
                                                    "ticks": "outside",
                                                    "tickwidth": 2
                                                },
                                                "colorscale": [
                                                    [
                                                        0,
                                                        "rgb(2,4,25)"
                                                    ],
                                                    [
                                                        0.06274509803921569,
                                                        "rgb(24,15,41)"
                                                    ],
                                                    [
                                                        0.12549019607843137,
                                                        "rgb(47,23,57)"
                                                    ],
                                                    [
                                                        0.18823529411764706,
                                                        "rgb(71,28,72)"
                                                    ],
                                                    [
                                                        0.25098039215686274,
                                                        "rgb(97,30,82)"
                                                    ],
                                                    [
                                                        0.3137254901960784,
                                                        "rgb(123,30,89)"
                                                    ],
                                                    [
                                                        0.3764705882352941,
                                                        "rgb(150,27,91)"
                                                    ],
                                                    [
                                                        0.4392156862745098,
                                                        "rgb(177,22,88)"
                                                    ],
                                                    [
                                                        0.5019607843137255,
                                                        "rgb(203,26,79)"
                                                    ],
                                                    [
                                                        0.5647058823529412,
                                                        "rgb(223,47,67)"
                                                    ],
                                                    [
                                                        0.6274509803921569,
                                                        "rgb(236,76,61)"
                                                    ],
                                                    [
                                                        0.6901960784313725,
                                                        "rgb(242,107,73)"
                                                    ],
                                                    [
                                                        0.7529411764705882,
                                                        "rgb(244,135,95)"
                                                    ],
                                                    [
                                                        0.8156862745098039,
                                                        "rgb(245,162,122)"
                                                    ],
                                                    [
                                                        0.8784313725490196,
                                                        "rgb(246,188,153)"
                                                    ],
                                                    [
                                                        0.9411764705882353,
                                                        "rgb(247,212,187)"
                                                    ],
                                                    [
                                                        1,
                                                        "rgb(250,234,220)"
                                                    ]
                                                ],
                                                "type": "heatmapgl"
                                            }
                                        ],
                                        "histogram": [
                                            {
                                                "marker": {
                                                    "pattern": {
                                                        "fillmode": "overlay",
                                                        "size": 10,
                                                        "solidity": 0.2
                                                    }
                                                },
                                                "type": "histogram"
                                            }
                                        ],
                                        "histogram2d": [
                                            {
                                                "colorbar": {
                                                    "outlinewidth": 0,
                                                    "tickcolor": "rgb(36,36,36)",
                                                    "ticklen": 8,
                                                    "ticks": "outside",
                                                    "tickwidth": 2
                                                },
                                                "colorscale": [
                                                    [
                                                        0,
                                                        "rgb(2,4,25)"
                                                    ],
                                                    [
                                                        0.06274509803921569,
                                                        "rgb(24,15,41)"
                                                    ],
                                                    [
                                                        0.12549019607843137,
                                                        "rgb(47,23,57)"
                                                    ],
                                                    [
                                                        0.18823529411764706,
                                                        "rgb(71,28,72)"
                                                    ],
                                                    [
                                                        0.25098039215686274,
                                                        "rgb(97,30,82)"
                                                    ],
                                                    [
                                                        0.3137254901960784,
                                                        "rgb(123,30,89)"
                                                    ],
                                                    [
                                                        0.3764705882352941,
                                                        "rgb(150,27,91)"
                                                    ],
                                                    [
                                                        0.4392156862745098,
                                                        "rgb(177,22,88)"
                                                    ],
                                                    [
                                                        0.5019607843137255,
                                                        "rgb(203,26,79)"
                                                    ],
                                                    [
                                                        0.5647058823529412,
                                                        "rgb(223,47,67)"
                                                    ],
                                                    [
                                                        0.6274509803921569,
                                                        "rgb(236,76,61)"
                                                    ],
                                                    [
                                                        0.6901960784313725,
                                                        "rgb(242,107,73)"
                                                    ],
                                                    [
                                                        0.7529411764705882,
                                                        "rgb(244,135,95)"
                                                    ],
                                                    [
                                                        0.8156862745098039,
                                                        "rgb(245,162,122)"
                                                    ],
                                                    [
                                                        0.8784313725490196,
                                                        "rgb(246,188,153)"
                                                    ],
                                                    [
                                                        0.9411764705882353,
                                                        "rgb(247,212,187)"
                                                    ],
                                                    [
                                                        1,
                                                        "rgb(250,234,220)"
                                                    ]
                                                ],
                                                "type": "histogram2d"
                                            }
                                        ],
                                        "histogram2dcontour": [
                                            {
                                                "colorbar": {
                                                    "outlinewidth": 0,
                                                    "tickcolor": "rgb(36,36,36)",
                                                    "ticklen": 8,
                                                    "ticks": "outside",
                                                    "tickwidth": 2
                                                },
                                                "colorscale": [
                                                    [
                                                        0,
                                                        "rgb(2,4,25)"
                                                    ],
                                                    [
                                                        0.06274509803921569,
                                                        "rgb(24,15,41)"
                                                    ],
                                                    [
                                                        0.12549019607843137,
                                                        "rgb(47,23,57)"
                                                    ],
                                                    [
                                                        0.18823529411764706,
                                                        "rgb(71,28,72)"
                                                    ],
                                                    [
                                                        0.25098039215686274,
                                                        "rgb(97,30,82)"
                                                    ],
                                                    [
                                                        0.3137254901960784,
                                                        "rgb(123,30,89)"
                                                    ],
                                                    [
                                                        0.3764705882352941,
                                                        "rgb(150,27,91)"
                                                    ],
                                                    [
                                                        0.4392156862745098,
                                                        "rgb(177,22,88)"
                                                    ],
                                                    [
                                                        0.5019607843137255,
                                                        "rgb(203,26,79)"
                                                    ],
                                                    [
                                                        0.5647058823529412,
                                                        "rgb(223,47,67)"
                                                    ],
                                                    [
                                                        0.6274509803921569,
                                                        "rgb(236,76,61)"
                                                    ],
                                                    [
                                                        0.6901960784313725,
                                                        "rgb(242,107,73)"
                                                    ],
                                                    [
                                                        0.7529411764705882,
                                                        "rgb(244,135,95)"
                                                    ],
                                                    [
                                                        0.8156862745098039,
                                                        "rgb(245,162,122)"
                                                    ],
                                                    [
                                                        0.8784313725490196,
                                                        "rgb(246,188,153)"
                                                    ],
                                                    [
                                                        0.9411764705882353,
                                                        "rgb(247,212,187)"
                                                    ],
                                                    [
                                                        1,
                                                        "rgb(250,234,220)"
                                                    ]
                                                ],
                                                "type": "histogram2dcontour"
                                            }
                                        ],
                                        "mesh3d": [
                                            {
                                                "colorbar": {
                                                    "outlinewidth": 0,
                                                    "tickcolor": "rgb(36,36,36)",
                                                    "ticklen": 8,
                                                    "ticks": "outside",
                                                    "tickwidth": 2
                                                },
                                                "type": "mesh3d"
                                            }
                                        ],
                                        "parcoords": [
                                            {
                                                "line": {
                                                    "colorbar": {
                                                        "outlinewidth": 0,
                                                        "tickcolor": "rgb(36,36,36)",
                                                        "ticklen": 8,
                                                        "ticks": "outside",
                                                        "tickwidth": 2
                                                    }
                                                },
                                                "type": "parcoords"
                                            }
                                        ],
                                        "pie": [
                                            {
                                                "automargin": true,
                                                "type": "pie"
                                            }
                                        ],
                                        "scatter": [
                                            {
                                                "marker": {
                                                    "colorbar": {
                                                        "outlinewidth": 0,
                                                        "tickcolor": "rgb(36,36,36)",
                                                        "ticklen": 8,
                                                        "ticks": "outside",
                                                        "tickwidth": 2
                                                    }
                                                },
                                                "type": "scatter"
                                            }
                                        ],
                                        "scatter3d": [
                                            {
                                                "line": {
                                                    "colorbar": {
                                                        "outlinewidth": 0,
                                                        "tickcolor": "rgb(36,36,36)",
                                                        "ticklen": 8,
                                                        "ticks": "outside",
                                                        "tickwidth": 2
                                                    }
                                                },
                                                "marker": {
                                                    "colorbar": {
                                                        "outlinewidth": 0,
                                                        "tickcolor": "rgb(36,36,36)",
                                                        "ticklen": 8,
                                                        "ticks": "outside",
                                                        "tickwidth": 2
                                                    }
                                                },
                                                "type": "scatter3d"
                                            }
                                        ],
                                        "scattercarpet": [
                                            {
                                                "marker": {
                                                    "colorbar": {
                                                        "outlinewidth": 0,
                                                        "tickcolor": "rgb(36,36,36)",
                                                        "ticklen": 8,
                                                        "ticks": "outside",
                                                        "tickwidth": 2
                                                    }
                                                },
                                                "type": "scattercarpet"
                                            }
                                        ],
                                        "scattergeo": [
                                            {
                                                "marker": {
                                                    "colorbar": {
                                                        "outlinewidth": 0,
                                                        "tickcolor": "rgb(36,36,36)",
                                                        "ticklen": 8,
                                                        "ticks": "outside",
                                                        "tickwidth": 2
                                                    }
                                                },
                                                "type": "scattergeo"
                                            }
                                        ],
                                        "scattergl": [
                                            {
                                                "marker": {
                                                    "colorbar": {
                                                        "outlinewidth": 0,
                                                        "tickcolor": "rgb(36,36,36)",
                                                        "ticklen": 8,
                                                        "ticks": "outside",
                                                        "tickwidth": 2
                                                    }
                                                },
                                                "type": "scattergl"
                                            }
                                        ],
                                        "scattermapbox": [
                                            {
                                                "marker": {
                                                    "colorbar": {
                                                        "outlinewidth": 0,
                                                        "tickcolor": "rgb(36,36,36)",
                                                        "ticklen": 8,
                                                        "ticks": "outside",
                                                        "tickwidth": 2
                                                    }
                                                },
                                                "type": "scattermapbox"
                                            }
                                        ],
                                        "scatterpolar": [
                                            {
                                                "marker": {
                                                    "colorbar": {
                                                        "outlinewidth": 0,
                                                        "tickcolor": "rgb(36,36,36)",
                                                        "ticklen": 8,
                                                        "ticks": "outside",
                                                        "tickwidth": 2
                                                    }
                                                },
                                                "type": "scatterpolar"
                                            }
                                        ],
                                        "scatterpolargl": [
                                            {
                                                "marker": {
                                                    "colorbar": {
                                                        "outlinewidth": 0,
                                                        "tickcolor": "rgb(36,36,36)",
                                                        "ticklen": 8,
                                                        "ticks": "outside",
                                                        "tickwidth": 2
                                                    }
                                                },
                                                "type": "scatterpolargl"
                                            }
                                        ],
                                        "scatterternary": [
                                            {
                                                "marker": {
                                                    "colorbar": {
                                                        "outlinewidth": 0,
                                                        "tickcolor": "rgb(36,36,36)",
                                                        "ticklen": 8,
                                                        "ticks": "outside",
                                                        "tickwidth": 2
                                                    }
                                                },
                                                "type": "scatterternary"
                                            }
                                        ],
                                        "surface": [
                                            {
                                                "colorbar": {
                                                    "outlinewidth": 0,
                                                    "tickcolor": "rgb(36,36,36)",
                                                    "ticklen": 8,
                                                    "ticks": "outside",
                                                    "tickwidth": 2
                                                },
                                                "colorscale": [
                                                    [
                                                        0,
                                                        "rgb(2,4,25)"
                                                    ],
                                                    [
                                                        0.06274509803921569,
                                                        "rgb(24,15,41)"
                                                    ],
                                                    [
                                                        0.12549019607843137,
                                                        "rgb(47,23,57)"
                                                    ],
                                                    [
                                                        0.18823529411764706,
                                                        "rgb(71,28,72)"
                                                    ],
                                                    [
                                                        0.25098039215686274,
                                                        "rgb(97,30,82)"
                                                    ],
                                                    [
                                                        0.3137254901960784,
                                                        "rgb(123,30,89)"
                                                    ],
                                                    [
                                                        0.3764705882352941,
                                                        "rgb(150,27,91)"
                                                    ],
                                                    [
                                                        0.4392156862745098,
                                                        "rgb(177,22,88)"
                                                    ],
                                                    [
                                                        0.5019607843137255,
                                                        "rgb(203,26,79)"
                                                    ],
                                                    [
                                                        0.5647058823529412,
                                                        "rgb(223,47,67)"
                                                    ],
                                                    [
                                                        0.6274509803921569,
                                                        "rgb(236,76,61)"
                                                    ],
                                                    [
                                                        0.6901960784313725,
                                                        "rgb(242,107,73)"
                                                    ],
                                                    [
                                                        0.7529411764705882,
                                                        "rgb(244,135,95)"
                                                    ],
                                                    [
                                                        0.8156862745098039,
                                                        "rgb(245,162,122)"
                                                    ],
                                                    [
                                                        0.8784313725490196,
                                                        "rgb(246,188,153)"
                                                    ],
                                                    [
                                                        0.9411764705882353,
                                                        "rgb(247,212,187)"
                                                    ],
                                                    [
                                                        1,
                                                        "rgb(250,234,220)"
                                                    ]
                                                ],
                                                "type": "surface"
                                            }
                                        ],
                                        "table": [
                                            {
                                                "cells": {
                                                    "fill": {
                                                        "color": "rgb(231,231,240)"
                                                    },
                                                    "line": {
                                                        "color": "white"
                                                    }
                                                },
                                                "header": {
                                                    "fill": {
                                                        "color": "rgb(183,183,191)"
                                                    },
                                                    "line": {
                                                        "color": "white"
                                                    }
                                                },
                                                "type": "table"
                                            }
                                        ]
                                    },
                                    "layout": {
                                        "annotationdefaults": {
                                            "arrowcolor": "rgb(67,103,167)"
                                        },
                                        "autotypenumbers": "strict",
                                        "coloraxis": {
                                            "colorbar": {
                                                "outlinewidth": 0,
                                                "tickcolor": "rgb(36,36,36)",
                                                "ticklen": 8,
                                                "ticks": "outside",
                                                "tickwidth": 2
                                            }
                                        },
                                        "colorscale": {
                                            "sequential": [
                                                [
                                                    0,
                                                    "rgb(2,4,25)"
                                                ],
                                                [
                                                    0.06274509803921569,
                                                    "rgb(24,15,41)"
                                                ],
                                                [
                                                    0.12549019607843137,
                                                    "rgb(47,23,57)"
                                                ],
                                                [
                                                    0.18823529411764706,
                                                    "rgb(71,28,72)"
                                                ],
                                                [
                                                    0.25098039215686274,
                                                    "rgb(97,30,82)"
                                                ],
                                                [
                                                    0.3137254901960784,
                                                    "rgb(123,30,89)"
                                                ],
                                                [
                                                    0.3764705882352941,
                                                    "rgb(150,27,91)"
                                                ],
                                                [
                                                    0.4392156862745098,
                                                    "rgb(177,22,88)"
                                                ],
                                                [
                                                    0.5019607843137255,
                                                    "rgb(203,26,79)"
                                                ],
                                                [
                                                    0.5647058823529412,
                                                    "rgb(223,47,67)"
                                                ],
                                                [
                                                    0.6274509803921569,
                                                    "rgb(236,76,61)"
                                                ],
                                                [
                                                    0.6901960784313725,
                                                    "rgb(242,107,73)"
                                                ],
                                                [
                                                    0.7529411764705882,
                                                    "rgb(244,135,95)"
                                                ],
                                                [
                                                    0.8156862745098039,
                                                    "rgb(245,162,122)"
                                                ],
                                                [
                                                    0.8784313725490196,
                                                    "rgb(246,188,153)"
                                                ],
                                                [
                                                    0.9411764705882353,
                                                    "rgb(247,212,187)"
                                                ],
                                                [
                                                    1,
                                                    "rgb(250,234,220)"
                                                ]
                                            ],
                                            "sequentialminus": [
                                                [
                                                    0,
                                                    "rgb(2,4,25)"
                                                ],
                                                [
                                                    0.06274509803921569,
                                                    "rgb(24,15,41)"
                                                ],
                                                [
                                                    0.12549019607843137,
                                                    "rgb(47,23,57)"
                                                ],
                                                [
                                                    0.18823529411764706,
                                                    "rgb(71,28,72)"
                                                ],
                                                [
                                                    0.25098039215686274,
                                                    "rgb(97,30,82)"
                                                ],
                                                [
                                                    0.3137254901960784,
                                                    "rgb(123,30,89)"
                                                ],
                                                [
                                                    0.3764705882352941,
                                                    "rgb(150,27,91)"
                                                ],
                                                [
                                                    0.4392156862745098,
                                                    "rgb(177,22,88)"
                                                ],
                                                [
                                                    0.5019607843137255,
                                                    "rgb(203,26,79)"
                                                ],
                                                [
                                                    0.5647058823529412,
                                                    "rgb(223,47,67)"
                                                ],
                                                [
                                                    0.6274509803921569,
                                                    "rgb(236,76,61)"
                                                ],
                                                [
                                                    0.6901960784313725,
                                                    "rgb(242,107,73)"
                                                ],
                                                [
                                                    0.7529411764705882,
                                                    "rgb(244,135,95)"
                                                ],
                                                [
                                                    0.8156862745098039,
                                                    "rgb(245,162,122)"
                                                ],
                                                [
                                                    0.8784313725490196,
                                                    "rgb(246,188,153)"
                                                ],
                                                [
                                                    0.9411764705882353,
                                                    "rgb(247,212,187)"
                                                ],
                                                [
                                                    1,
                                                    "rgb(250,234,220)"
                                                ]
                                            ]
                                        },
                                        "colorway": [
                                            "rgb(76,114,176)",
                                            "rgb(221,132,82)",
                                            "rgb(85,168,104)",
                                            "rgb(196,78,82)",
                                            "rgb(129,114,179)",
                                            "rgb(147,120,96)",
                                            "rgb(218,139,195)",
                                            "rgb(140,140,140)",
                                            "rgb(204,185,116)",
                                            "rgb(100,181,205)"
                                        ],
                                        "font": {
                                            "color": "rgb(36,36,36)"
                                        },
                                        "geo": {
                                            "bgcolor": "white",
                                            "lakecolor": "white",
                                            "landcolor": "rgb(234,234,242)",
                                            "showlakes": true,
                                            "showland": true,
                                            "subunitcolor": "white"
                                        },
                                        "hoverlabel": {
                                            "align": "left"
                                        },
                                        "hovermode": "closest",
                                        "paper_bgcolor": "white",
                                        "plot_bgcolor": "rgb(234,234,242)",
                                        "polar": {
                                            "angularaxis": {
                                                "gridcolor": "white",
                                                "linecolor": "white",
                                                "showgrid": true,
                                                "ticks": ""
                                            },
                                            "bgcolor": "rgb(234,234,242)",
                                            "radialaxis": {
                                                "gridcolor": "white",
                                                "linecolor": "white",
                                                "showgrid": true,
                                                "ticks": ""
                                            }
                                        },
                                        "scene": {
                                            "xaxis": {
                                                "backgroundcolor": "rgb(234,234,242)",
                                                "gridcolor": "white",
                                                "gridwidth": 2,
                                                "linecolor": "white",
                                                "showbackground": true,
                                                "showgrid": true,
                                                "ticks": "",
                                                "zerolinecolor": "white"
                                            },
                                            "yaxis": {
                                                "backgroundcolor": "rgb(234,234,242)",
                                                "gridcolor": "white",
                                                "gridwidth": 2,
                                                "linecolor": "white",
                                                "showbackground": true,
                                                "showgrid": true,
                                                "ticks": "",
                                                "zerolinecolor": "white"
                                            },
                                            "zaxis": {
                                                "backgroundcolor": "rgb(234,234,242)",
                                                "gridcolor": "white",
                                                "gridwidth": 2,
                                                "linecolor": "white",
                                                "showbackground": true,
                                                "showgrid": true,
                                                "ticks": "",
                                                "zerolinecolor": "white"
                                            }
                                        },
                                        "shapedefaults": {
                                            "fillcolor": "rgb(67,103,167)",
                                            "line": {
                                                "width": 0
                                            },
                                            "opacity": 0.5
                                        },
                                        "ternary": {
                                            "aaxis": {
                                                "gridcolor": "white",
                                                "linecolor": "white",
                                                "showgrid": true,
                                                "ticks": ""
                                            },
                                            "baxis": {
                                                "gridcolor": "white",
                                                "linecolor": "white",
                                                "showgrid": true,
                                                "ticks": ""
                                            },
                                            "bgcolor": "rgb(234,234,242)",
                                            "caxis": {
                                                "gridcolor": "white",
                                                "linecolor": "white",
                                                "showgrid": true,
                                                "ticks": ""
                                            }
                                        },
                                        "xaxis": {
                                            "automargin": true,
                                            "gridcolor": "white",
                                            "linecolor": "white",
                                            "showgrid": true,
                                            "ticks": "",
                                            "title": {
                                                "standoff": 15
                                            },
                                            "zerolinecolor": "white"
                                        },
                                        "yaxis": {
                                            "automargin": true,
                                            "gridcolor": "white",
                                            "linecolor": "white",
                                            "showgrid": true,
                                            "ticks": "",
                                            "title": {
                                                "standoff": 15
                                            },
                                            "zerolinecolor": "white"
                                        }
                                    }
                                },
                                "title": {
                                    "text": "Distribuição - Gênero"
                                },
                                "width": 600,
                                "xaxis": {
                                    "anchor": "y",
                                    "domain": [
                                        0,
                                        1
                                    ],
                                    "title": {
                                        "text": "Genero"
                                    }
                                },
                                "yaxis": {
                                    "anchor": "x",
                                    "domain": [
                                        0,
                                        1
                                    ],
                                    "title": {
                                        "text": "Qtde"
                                    }
                                }
                            }
                        }
                    },
                    "metadata": {}
                }
            ],
            "metadata": {}
        },
        {
            "cell_type": "markdown",
            "source": [
                "____\n",
                "## Analisando a Região de moradia do estudante\n",
                "\n",
                "* Quantidades"
            ],
            "metadata": {}
        },
        {
            "cell_type": "code",
            "execution_count": 6,
            "source": [
                "studentInfo['region'].unique()"
            ],
            "outputs": [
                {
                    "output_type": "execute_result",
                    "data": {
                        "text/plain": [
                            "array(['East Anglian Region', 'Scotland', 'North Western Region',\n",
                            "       'South East Region', 'West Midlands Region', 'Wales',\n",
                            "       'North Region', 'South Region', 'Ireland', 'South West Region',\n",
                            "       'East Midlands Region', 'Yorkshire Region', 'London Region'],\n",
                            "      dtype=object)"
                        ]
                    },
                    "metadata": {},
                    "execution_count": 6
                }
            ],
            "metadata": {}
        },
        {
            "cell_type": "code",
            "execution_count": 39,
            "source": [
                "regiao = studentInfo.groupby('region').count().reset_index()[['region', 'code_module']].sort_values(by='code_module', ascending=False).\\\n",
                "    rename(columns={\"code_module\": \"Qtde\", \"region\": \"Regiao\"})\n",
                "fig = px.bar(regiao, x='Regiao', y='Qtde', template=\"seaborn\")\n",
                "fig.update_layout(\n",
                "    margin=dict(l=20, r=50, t=50, b=20),\n",
                "    title = 'Distribuição - Regiões',\n",
                "    width=700, \n",
                "    height=400,\n",
                "    \n",
                ")\n",
                "fig.show()"
            ],
            "outputs": [
                {
                    "output_type": "display_data",
                    "data": {
                        "application/vnd.plotly.v1+json": {
                            "config": {
                                "plotlyServerURL": "https://plot.ly"
                            },
                            "data": [
                                {
                                    "alignmentgroup": "True",
                                    "hovertemplate": "Regiao=%{x}<br>Qtde=%{y}<extra></extra>",
                                    "legendgroup": "",
                                    "marker": {
                                        "color": "rgb(76,114,176)",
                                        "pattern": {
                                            "shape": ""
                                        }
                                    },
                                    "name": "",
                                    "offsetgroup": "",
                                    "orientation": "v",
                                    "showlegend": false,
                                    "textposition": "auto",
                                    "type": "bar",
                                    "x": [
                                        "Scotland",
                                        "East Anglian Region",
                                        "London Region",
                                        "South Region",
                                        "North Western Region",
                                        "West Midlands Region",
                                        "South West Region",
                                        "East Midlands Region",
                                        "South East Region",
                                        "Wales",
                                        "Yorkshire Region",
                                        "North Region",
                                        "Ireland"
                                    ],
                                    "xaxis": "x",
                                    "y": [
                                        3446,
                                        3340,
                                        3216,
                                        3092,
                                        2906,
                                        2582,
                                        2436,
                                        2365,
                                        2111,
                                        2086,
                                        2006,
                                        1823,
                                        1184
                                    ],
                                    "yaxis": "y"
                                }
                            ],
                            "layout": {
                                "barmode": "relative",
                                "height": 400,
                                "legend": {
                                    "tracegroupgap": 0
                                },
                                "margin": {
                                    "b": 20,
                                    "l": 20,
                                    "r": 50,
                                    "t": 50
                                },
                                "template": {
                                    "data": {
                                        "bar": [
                                            {
                                                "error_x": {
                                                    "color": "rgb(36,36,36)"
                                                },
                                                "error_y": {
                                                    "color": "rgb(36,36,36)"
                                                },
                                                "marker": {
                                                    "line": {
                                                        "color": "rgb(234,234,242)",
                                                        "width": 0.5
                                                    },
                                                    "pattern": {
                                                        "fillmode": "overlay",
                                                        "size": 10,
                                                        "solidity": 0.2
                                                    }
                                                },
                                                "type": "bar"
                                            }
                                        ],
                                        "barpolar": [
                                            {
                                                "marker": {
                                                    "line": {
                                                        "color": "rgb(234,234,242)",
                                                        "width": 0.5
                                                    },
                                                    "pattern": {
                                                        "fillmode": "overlay",
                                                        "size": 10,
                                                        "solidity": 0.2
                                                    }
                                                },
                                                "type": "barpolar"
                                            }
                                        ],
                                        "carpet": [
                                            {
                                                "aaxis": {
                                                    "endlinecolor": "rgb(36,36,36)",
                                                    "gridcolor": "white",
                                                    "linecolor": "white",
                                                    "minorgridcolor": "white",
                                                    "startlinecolor": "rgb(36,36,36)"
                                                },
                                                "baxis": {
                                                    "endlinecolor": "rgb(36,36,36)",
                                                    "gridcolor": "white",
                                                    "linecolor": "white",
                                                    "minorgridcolor": "white",
                                                    "startlinecolor": "rgb(36,36,36)"
                                                },
                                                "type": "carpet"
                                            }
                                        ],
                                        "choropleth": [
                                            {
                                                "colorbar": {
                                                    "outlinewidth": 0,
                                                    "tickcolor": "rgb(36,36,36)",
                                                    "ticklen": 8,
                                                    "ticks": "outside",
                                                    "tickwidth": 2
                                                },
                                                "type": "choropleth"
                                            }
                                        ],
                                        "contour": [
                                            {
                                                "colorbar": {
                                                    "outlinewidth": 0,
                                                    "tickcolor": "rgb(36,36,36)",
                                                    "ticklen": 8,
                                                    "ticks": "outside",
                                                    "tickwidth": 2
                                                },
                                                "colorscale": [
                                                    [
                                                        0,
                                                        "rgb(2,4,25)"
                                                    ],
                                                    [
                                                        0.06274509803921569,
                                                        "rgb(24,15,41)"
                                                    ],
                                                    [
                                                        0.12549019607843137,
                                                        "rgb(47,23,57)"
                                                    ],
                                                    [
                                                        0.18823529411764706,
                                                        "rgb(71,28,72)"
                                                    ],
                                                    [
                                                        0.25098039215686274,
                                                        "rgb(97,30,82)"
                                                    ],
                                                    [
                                                        0.3137254901960784,
                                                        "rgb(123,30,89)"
                                                    ],
                                                    [
                                                        0.3764705882352941,
                                                        "rgb(150,27,91)"
                                                    ],
                                                    [
                                                        0.4392156862745098,
                                                        "rgb(177,22,88)"
                                                    ],
                                                    [
                                                        0.5019607843137255,
                                                        "rgb(203,26,79)"
                                                    ],
                                                    [
                                                        0.5647058823529412,
                                                        "rgb(223,47,67)"
                                                    ],
                                                    [
                                                        0.6274509803921569,
                                                        "rgb(236,76,61)"
                                                    ],
                                                    [
                                                        0.6901960784313725,
                                                        "rgb(242,107,73)"
                                                    ],
                                                    [
                                                        0.7529411764705882,
                                                        "rgb(244,135,95)"
                                                    ],
                                                    [
                                                        0.8156862745098039,
                                                        "rgb(245,162,122)"
                                                    ],
                                                    [
                                                        0.8784313725490196,
                                                        "rgb(246,188,153)"
                                                    ],
                                                    [
                                                        0.9411764705882353,
                                                        "rgb(247,212,187)"
                                                    ],
                                                    [
                                                        1,
                                                        "rgb(250,234,220)"
                                                    ]
                                                ],
                                                "type": "contour"
                                            }
                                        ],
                                        "contourcarpet": [
                                            {
                                                "colorbar": {
                                                    "outlinewidth": 0,
                                                    "tickcolor": "rgb(36,36,36)",
                                                    "ticklen": 8,
                                                    "ticks": "outside",
                                                    "tickwidth": 2
                                                },
                                                "type": "contourcarpet"
                                            }
                                        ],
                                        "heatmap": [
                                            {
                                                "colorbar": {
                                                    "outlinewidth": 0,
                                                    "tickcolor": "rgb(36,36,36)",
                                                    "ticklen": 8,
                                                    "ticks": "outside",
                                                    "tickwidth": 2
                                                },
                                                "colorscale": [
                                                    [
                                                        0,
                                                        "rgb(2,4,25)"
                                                    ],
                                                    [
                                                        0.06274509803921569,
                                                        "rgb(24,15,41)"
                                                    ],
                                                    [
                                                        0.12549019607843137,
                                                        "rgb(47,23,57)"
                                                    ],
                                                    [
                                                        0.18823529411764706,
                                                        "rgb(71,28,72)"
                                                    ],
                                                    [
                                                        0.25098039215686274,
                                                        "rgb(97,30,82)"
                                                    ],
                                                    [
                                                        0.3137254901960784,
                                                        "rgb(123,30,89)"
                                                    ],
                                                    [
                                                        0.3764705882352941,
                                                        "rgb(150,27,91)"
                                                    ],
                                                    [
                                                        0.4392156862745098,
                                                        "rgb(177,22,88)"
                                                    ],
                                                    [
                                                        0.5019607843137255,
                                                        "rgb(203,26,79)"
                                                    ],
                                                    [
                                                        0.5647058823529412,
                                                        "rgb(223,47,67)"
                                                    ],
                                                    [
                                                        0.6274509803921569,
                                                        "rgb(236,76,61)"
                                                    ],
                                                    [
                                                        0.6901960784313725,
                                                        "rgb(242,107,73)"
                                                    ],
                                                    [
                                                        0.7529411764705882,
                                                        "rgb(244,135,95)"
                                                    ],
                                                    [
                                                        0.8156862745098039,
                                                        "rgb(245,162,122)"
                                                    ],
                                                    [
                                                        0.8784313725490196,
                                                        "rgb(246,188,153)"
                                                    ],
                                                    [
                                                        0.9411764705882353,
                                                        "rgb(247,212,187)"
                                                    ],
                                                    [
                                                        1,
                                                        "rgb(250,234,220)"
                                                    ]
                                                ],
                                                "type": "heatmap"
                                            }
                                        ],
                                        "heatmapgl": [
                                            {
                                                "colorbar": {
                                                    "outlinewidth": 0,
                                                    "tickcolor": "rgb(36,36,36)",
                                                    "ticklen": 8,
                                                    "ticks": "outside",
                                                    "tickwidth": 2
                                                },
                                                "colorscale": [
                                                    [
                                                        0,
                                                        "rgb(2,4,25)"
                                                    ],
                                                    [
                                                        0.06274509803921569,
                                                        "rgb(24,15,41)"
                                                    ],
                                                    [
                                                        0.12549019607843137,
                                                        "rgb(47,23,57)"
                                                    ],
                                                    [
                                                        0.18823529411764706,
                                                        "rgb(71,28,72)"
                                                    ],
                                                    [
                                                        0.25098039215686274,
                                                        "rgb(97,30,82)"
                                                    ],
                                                    [
                                                        0.3137254901960784,
                                                        "rgb(123,30,89)"
                                                    ],
                                                    [
                                                        0.3764705882352941,
                                                        "rgb(150,27,91)"
                                                    ],
                                                    [
                                                        0.4392156862745098,
                                                        "rgb(177,22,88)"
                                                    ],
                                                    [
                                                        0.5019607843137255,
                                                        "rgb(203,26,79)"
                                                    ],
                                                    [
                                                        0.5647058823529412,
                                                        "rgb(223,47,67)"
                                                    ],
                                                    [
                                                        0.6274509803921569,
                                                        "rgb(236,76,61)"
                                                    ],
                                                    [
                                                        0.6901960784313725,
                                                        "rgb(242,107,73)"
                                                    ],
                                                    [
                                                        0.7529411764705882,
                                                        "rgb(244,135,95)"
                                                    ],
                                                    [
                                                        0.8156862745098039,
                                                        "rgb(245,162,122)"
                                                    ],
                                                    [
                                                        0.8784313725490196,
                                                        "rgb(246,188,153)"
                                                    ],
                                                    [
                                                        0.9411764705882353,
                                                        "rgb(247,212,187)"
                                                    ],
                                                    [
                                                        1,
                                                        "rgb(250,234,220)"
                                                    ]
                                                ],
                                                "type": "heatmapgl"
                                            }
                                        ],
                                        "histogram": [
                                            {
                                                "marker": {
                                                    "pattern": {
                                                        "fillmode": "overlay",
                                                        "size": 10,
                                                        "solidity": 0.2
                                                    }
                                                },
                                                "type": "histogram"
                                            }
                                        ],
                                        "histogram2d": [
                                            {
                                                "colorbar": {
                                                    "outlinewidth": 0,
                                                    "tickcolor": "rgb(36,36,36)",
                                                    "ticklen": 8,
                                                    "ticks": "outside",
                                                    "tickwidth": 2
                                                },
                                                "colorscale": [
                                                    [
                                                        0,
                                                        "rgb(2,4,25)"
                                                    ],
                                                    [
                                                        0.06274509803921569,
                                                        "rgb(24,15,41)"
                                                    ],
                                                    [
                                                        0.12549019607843137,
                                                        "rgb(47,23,57)"
                                                    ],
                                                    [
                                                        0.18823529411764706,
                                                        "rgb(71,28,72)"
                                                    ],
                                                    [
                                                        0.25098039215686274,
                                                        "rgb(97,30,82)"
                                                    ],
                                                    [
                                                        0.3137254901960784,
                                                        "rgb(123,30,89)"
                                                    ],
                                                    [
                                                        0.3764705882352941,
                                                        "rgb(150,27,91)"
                                                    ],
                                                    [
                                                        0.4392156862745098,
                                                        "rgb(177,22,88)"
                                                    ],
                                                    [
                                                        0.5019607843137255,
                                                        "rgb(203,26,79)"
                                                    ],
                                                    [
                                                        0.5647058823529412,
                                                        "rgb(223,47,67)"
                                                    ],
                                                    [
                                                        0.6274509803921569,
                                                        "rgb(236,76,61)"
                                                    ],
                                                    [
                                                        0.6901960784313725,
                                                        "rgb(242,107,73)"
                                                    ],
                                                    [
                                                        0.7529411764705882,
                                                        "rgb(244,135,95)"
                                                    ],
                                                    [
                                                        0.8156862745098039,
                                                        "rgb(245,162,122)"
                                                    ],
                                                    [
                                                        0.8784313725490196,
                                                        "rgb(246,188,153)"
                                                    ],
                                                    [
                                                        0.9411764705882353,
                                                        "rgb(247,212,187)"
                                                    ],
                                                    [
                                                        1,
                                                        "rgb(250,234,220)"
                                                    ]
                                                ],
                                                "type": "histogram2d"
                                            }
                                        ],
                                        "histogram2dcontour": [
                                            {
                                                "colorbar": {
                                                    "outlinewidth": 0,
                                                    "tickcolor": "rgb(36,36,36)",
                                                    "ticklen": 8,
                                                    "ticks": "outside",
                                                    "tickwidth": 2
                                                },
                                                "colorscale": [
                                                    [
                                                        0,
                                                        "rgb(2,4,25)"
                                                    ],
                                                    [
                                                        0.06274509803921569,
                                                        "rgb(24,15,41)"
                                                    ],
                                                    [
                                                        0.12549019607843137,
                                                        "rgb(47,23,57)"
                                                    ],
                                                    [
                                                        0.18823529411764706,
                                                        "rgb(71,28,72)"
                                                    ],
                                                    [
                                                        0.25098039215686274,
                                                        "rgb(97,30,82)"
                                                    ],
                                                    [
                                                        0.3137254901960784,
                                                        "rgb(123,30,89)"
                                                    ],
                                                    [
                                                        0.3764705882352941,
                                                        "rgb(150,27,91)"
                                                    ],
                                                    [
                                                        0.4392156862745098,
                                                        "rgb(177,22,88)"
                                                    ],
                                                    [
                                                        0.5019607843137255,
                                                        "rgb(203,26,79)"
                                                    ],
                                                    [
                                                        0.5647058823529412,
                                                        "rgb(223,47,67)"
                                                    ],
                                                    [
                                                        0.6274509803921569,
                                                        "rgb(236,76,61)"
                                                    ],
                                                    [
                                                        0.6901960784313725,
                                                        "rgb(242,107,73)"
                                                    ],
                                                    [
                                                        0.7529411764705882,
                                                        "rgb(244,135,95)"
                                                    ],
                                                    [
                                                        0.8156862745098039,
                                                        "rgb(245,162,122)"
                                                    ],
                                                    [
                                                        0.8784313725490196,
                                                        "rgb(246,188,153)"
                                                    ],
                                                    [
                                                        0.9411764705882353,
                                                        "rgb(247,212,187)"
                                                    ],
                                                    [
                                                        1,
                                                        "rgb(250,234,220)"
                                                    ]
                                                ],
                                                "type": "histogram2dcontour"
                                            }
                                        ],
                                        "mesh3d": [
                                            {
                                                "colorbar": {
                                                    "outlinewidth": 0,
                                                    "tickcolor": "rgb(36,36,36)",
                                                    "ticklen": 8,
                                                    "ticks": "outside",
                                                    "tickwidth": 2
                                                },
                                                "type": "mesh3d"
                                            }
                                        ],
                                        "parcoords": [
                                            {
                                                "line": {
                                                    "colorbar": {
                                                        "outlinewidth": 0,
                                                        "tickcolor": "rgb(36,36,36)",
                                                        "ticklen": 8,
                                                        "ticks": "outside",
                                                        "tickwidth": 2
                                                    }
                                                },
                                                "type": "parcoords"
                                            }
                                        ],
                                        "pie": [
                                            {
                                                "automargin": true,
                                                "type": "pie"
                                            }
                                        ],
                                        "scatter": [
                                            {
                                                "marker": {
                                                    "colorbar": {
                                                        "outlinewidth": 0,
                                                        "tickcolor": "rgb(36,36,36)",
                                                        "ticklen": 8,
                                                        "ticks": "outside",
                                                        "tickwidth": 2
                                                    }
                                                },
                                                "type": "scatter"
                                            }
                                        ],
                                        "scatter3d": [
                                            {
                                                "line": {
                                                    "colorbar": {
                                                        "outlinewidth": 0,
                                                        "tickcolor": "rgb(36,36,36)",
                                                        "ticklen": 8,
                                                        "ticks": "outside",
                                                        "tickwidth": 2
                                                    }
                                                },
                                                "marker": {
                                                    "colorbar": {
                                                        "outlinewidth": 0,
                                                        "tickcolor": "rgb(36,36,36)",
                                                        "ticklen": 8,
                                                        "ticks": "outside",
                                                        "tickwidth": 2
                                                    }
                                                },
                                                "type": "scatter3d"
                                            }
                                        ],
                                        "scattercarpet": [
                                            {
                                                "marker": {
                                                    "colorbar": {
                                                        "outlinewidth": 0,
                                                        "tickcolor": "rgb(36,36,36)",
                                                        "ticklen": 8,
                                                        "ticks": "outside",
                                                        "tickwidth": 2
                                                    }
                                                },
                                                "type": "scattercarpet"
                                            }
                                        ],
                                        "scattergeo": [
                                            {
                                                "marker": {
                                                    "colorbar": {
                                                        "outlinewidth": 0,
                                                        "tickcolor": "rgb(36,36,36)",
                                                        "ticklen": 8,
                                                        "ticks": "outside",
                                                        "tickwidth": 2
                                                    }
                                                },
                                                "type": "scattergeo"
                                            }
                                        ],
                                        "scattergl": [
                                            {
                                                "marker": {
                                                    "colorbar": {
                                                        "outlinewidth": 0,
                                                        "tickcolor": "rgb(36,36,36)",
                                                        "ticklen": 8,
                                                        "ticks": "outside",
                                                        "tickwidth": 2
                                                    }
                                                },
                                                "type": "scattergl"
                                            }
                                        ],
                                        "scattermapbox": [
                                            {
                                                "marker": {
                                                    "colorbar": {
                                                        "outlinewidth": 0,
                                                        "tickcolor": "rgb(36,36,36)",
                                                        "ticklen": 8,
                                                        "ticks": "outside",
                                                        "tickwidth": 2
                                                    }
                                                },
                                                "type": "scattermapbox"
                                            }
                                        ],
                                        "scatterpolar": [
                                            {
                                                "marker": {
                                                    "colorbar": {
                                                        "outlinewidth": 0,
                                                        "tickcolor": "rgb(36,36,36)",
                                                        "ticklen": 8,
                                                        "ticks": "outside",
                                                        "tickwidth": 2
                                                    }
                                                },
                                                "type": "scatterpolar"
                                            }
                                        ],
                                        "scatterpolargl": [
                                            {
                                                "marker": {
                                                    "colorbar": {
                                                        "outlinewidth": 0,
                                                        "tickcolor": "rgb(36,36,36)",
                                                        "ticklen": 8,
                                                        "ticks": "outside",
                                                        "tickwidth": 2
                                                    }
                                                },
                                                "type": "scatterpolargl"
                                            }
                                        ],
                                        "scatterternary": [
                                            {
                                                "marker": {
                                                    "colorbar": {
                                                        "outlinewidth": 0,
                                                        "tickcolor": "rgb(36,36,36)",
                                                        "ticklen": 8,
                                                        "ticks": "outside",
                                                        "tickwidth": 2
                                                    }
                                                },
                                                "type": "scatterternary"
                                            }
                                        ],
                                        "surface": [
                                            {
                                                "colorbar": {
                                                    "outlinewidth": 0,
                                                    "tickcolor": "rgb(36,36,36)",
                                                    "ticklen": 8,
                                                    "ticks": "outside",
                                                    "tickwidth": 2
                                                },
                                                "colorscale": [
                                                    [
                                                        0,
                                                        "rgb(2,4,25)"
                                                    ],
                                                    [
                                                        0.06274509803921569,
                                                        "rgb(24,15,41)"
                                                    ],
                                                    [
                                                        0.12549019607843137,
                                                        "rgb(47,23,57)"
                                                    ],
                                                    [
                                                        0.18823529411764706,
                                                        "rgb(71,28,72)"
                                                    ],
                                                    [
                                                        0.25098039215686274,
                                                        "rgb(97,30,82)"
                                                    ],
                                                    [
                                                        0.3137254901960784,
                                                        "rgb(123,30,89)"
                                                    ],
                                                    [
                                                        0.3764705882352941,
                                                        "rgb(150,27,91)"
                                                    ],
                                                    [
                                                        0.4392156862745098,
                                                        "rgb(177,22,88)"
                                                    ],
                                                    [
                                                        0.5019607843137255,
                                                        "rgb(203,26,79)"
                                                    ],
                                                    [
                                                        0.5647058823529412,
                                                        "rgb(223,47,67)"
                                                    ],
                                                    [
                                                        0.6274509803921569,
                                                        "rgb(236,76,61)"
                                                    ],
                                                    [
                                                        0.6901960784313725,
                                                        "rgb(242,107,73)"
                                                    ],
                                                    [
                                                        0.7529411764705882,
                                                        "rgb(244,135,95)"
                                                    ],
                                                    [
                                                        0.8156862745098039,
                                                        "rgb(245,162,122)"
                                                    ],
                                                    [
                                                        0.8784313725490196,
                                                        "rgb(246,188,153)"
                                                    ],
                                                    [
                                                        0.9411764705882353,
                                                        "rgb(247,212,187)"
                                                    ],
                                                    [
                                                        1,
                                                        "rgb(250,234,220)"
                                                    ]
                                                ],
                                                "type": "surface"
                                            }
                                        ],
                                        "table": [
                                            {
                                                "cells": {
                                                    "fill": {
                                                        "color": "rgb(231,231,240)"
                                                    },
                                                    "line": {
                                                        "color": "white"
                                                    }
                                                },
                                                "header": {
                                                    "fill": {
                                                        "color": "rgb(183,183,191)"
                                                    },
                                                    "line": {
                                                        "color": "white"
                                                    }
                                                },
                                                "type": "table"
                                            }
                                        ]
                                    },
                                    "layout": {
                                        "annotationdefaults": {
                                            "arrowcolor": "rgb(67,103,167)"
                                        },
                                        "autotypenumbers": "strict",
                                        "coloraxis": {
                                            "colorbar": {
                                                "outlinewidth": 0,
                                                "tickcolor": "rgb(36,36,36)",
                                                "ticklen": 8,
                                                "ticks": "outside",
                                                "tickwidth": 2
                                            }
                                        },
                                        "colorscale": {
                                            "sequential": [
                                                [
                                                    0,
                                                    "rgb(2,4,25)"
                                                ],
                                                [
                                                    0.06274509803921569,
                                                    "rgb(24,15,41)"
                                                ],
                                                [
                                                    0.12549019607843137,
                                                    "rgb(47,23,57)"
                                                ],
                                                [
                                                    0.18823529411764706,
                                                    "rgb(71,28,72)"
                                                ],
                                                [
                                                    0.25098039215686274,
                                                    "rgb(97,30,82)"
                                                ],
                                                [
                                                    0.3137254901960784,
                                                    "rgb(123,30,89)"
                                                ],
                                                [
                                                    0.3764705882352941,
                                                    "rgb(150,27,91)"
                                                ],
                                                [
                                                    0.4392156862745098,
                                                    "rgb(177,22,88)"
                                                ],
                                                [
                                                    0.5019607843137255,
                                                    "rgb(203,26,79)"
                                                ],
                                                [
                                                    0.5647058823529412,
                                                    "rgb(223,47,67)"
                                                ],
                                                [
                                                    0.6274509803921569,
                                                    "rgb(236,76,61)"
                                                ],
                                                [
                                                    0.6901960784313725,
                                                    "rgb(242,107,73)"
                                                ],
                                                [
                                                    0.7529411764705882,
                                                    "rgb(244,135,95)"
                                                ],
                                                [
                                                    0.8156862745098039,
                                                    "rgb(245,162,122)"
                                                ],
                                                [
                                                    0.8784313725490196,
                                                    "rgb(246,188,153)"
                                                ],
                                                [
                                                    0.9411764705882353,
                                                    "rgb(247,212,187)"
                                                ],
                                                [
                                                    1,
                                                    "rgb(250,234,220)"
                                                ]
                                            ],
                                            "sequentialminus": [
                                                [
                                                    0,
                                                    "rgb(2,4,25)"
                                                ],
                                                [
                                                    0.06274509803921569,
                                                    "rgb(24,15,41)"
                                                ],
                                                [
                                                    0.12549019607843137,
                                                    "rgb(47,23,57)"
                                                ],
                                                [
                                                    0.18823529411764706,
                                                    "rgb(71,28,72)"
                                                ],
                                                [
                                                    0.25098039215686274,
                                                    "rgb(97,30,82)"
                                                ],
                                                [
                                                    0.3137254901960784,
                                                    "rgb(123,30,89)"
                                                ],
                                                [
                                                    0.3764705882352941,
                                                    "rgb(150,27,91)"
                                                ],
                                                [
                                                    0.4392156862745098,
                                                    "rgb(177,22,88)"
                                                ],
                                                [
                                                    0.5019607843137255,
                                                    "rgb(203,26,79)"
                                                ],
                                                [
                                                    0.5647058823529412,
                                                    "rgb(223,47,67)"
                                                ],
                                                [
                                                    0.6274509803921569,
                                                    "rgb(236,76,61)"
                                                ],
                                                [
                                                    0.6901960784313725,
                                                    "rgb(242,107,73)"
                                                ],
                                                [
                                                    0.7529411764705882,
                                                    "rgb(244,135,95)"
                                                ],
                                                [
                                                    0.8156862745098039,
                                                    "rgb(245,162,122)"
                                                ],
                                                [
                                                    0.8784313725490196,
                                                    "rgb(246,188,153)"
                                                ],
                                                [
                                                    0.9411764705882353,
                                                    "rgb(247,212,187)"
                                                ],
                                                [
                                                    1,
                                                    "rgb(250,234,220)"
                                                ]
                                            ]
                                        },
                                        "colorway": [
                                            "rgb(76,114,176)",
                                            "rgb(221,132,82)",
                                            "rgb(85,168,104)",
                                            "rgb(196,78,82)",
                                            "rgb(129,114,179)",
                                            "rgb(147,120,96)",
                                            "rgb(218,139,195)",
                                            "rgb(140,140,140)",
                                            "rgb(204,185,116)",
                                            "rgb(100,181,205)"
                                        ],
                                        "font": {
                                            "color": "rgb(36,36,36)"
                                        },
                                        "geo": {
                                            "bgcolor": "white",
                                            "lakecolor": "white",
                                            "landcolor": "rgb(234,234,242)",
                                            "showlakes": true,
                                            "showland": true,
                                            "subunitcolor": "white"
                                        },
                                        "hoverlabel": {
                                            "align": "left"
                                        },
                                        "hovermode": "closest",
                                        "paper_bgcolor": "white",
                                        "plot_bgcolor": "rgb(234,234,242)",
                                        "polar": {
                                            "angularaxis": {
                                                "gridcolor": "white",
                                                "linecolor": "white",
                                                "showgrid": true,
                                                "ticks": ""
                                            },
                                            "bgcolor": "rgb(234,234,242)",
                                            "radialaxis": {
                                                "gridcolor": "white",
                                                "linecolor": "white",
                                                "showgrid": true,
                                                "ticks": ""
                                            }
                                        },
                                        "scene": {
                                            "xaxis": {
                                                "backgroundcolor": "rgb(234,234,242)",
                                                "gridcolor": "white",
                                                "gridwidth": 2,
                                                "linecolor": "white",
                                                "showbackground": true,
                                                "showgrid": true,
                                                "ticks": "",
                                                "zerolinecolor": "white"
                                            },
                                            "yaxis": {
                                                "backgroundcolor": "rgb(234,234,242)",
                                                "gridcolor": "white",
                                                "gridwidth": 2,
                                                "linecolor": "white",
                                                "showbackground": true,
                                                "showgrid": true,
                                                "ticks": "",
                                                "zerolinecolor": "white"
                                            },
                                            "zaxis": {
                                                "backgroundcolor": "rgb(234,234,242)",
                                                "gridcolor": "white",
                                                "gridwidth": 2,
                                                "linecolor": "white",
                                                "showbackground": true,
                                                "showgrid": true,
                                                "ticks": "",
                                                "zerolinecolor": "white"
                                            }
                                        },
                                        "shapedefaults": {
                                            "fillcolor": "rgb(67,103,167)",
                                            "line": {
                                                "width": 0
                                            },
                                            "opacity": 0.5
                                        },
                                        "ternary": {
                                            "aaxis": {
                                                "gridcolor": "white",
                                                "linecolor": "white",
                                                "showgrid": true,
                                                "ticks": ""
                                            },
                                            "baxis": {
                                                "gridcolor": "white",
                                                "linecolor": "white",
                                                "showgrid": true,
                                                "ticks": ""
                                            },
                                            "bgcolor": "rgb(234,234,242)",
                                            "caxis": {
                                                "gridcolor": "white",
                                                "linecolor": "white",
                                                "showgrid": true,
                                                "ticks": ""
                                            }
                                        },
                                        "xaxis": {
                                            "automargin": true,
                                            "gridcolor": "white",
                                            "linecolor": "white",
                                            "showgrid": true,
                                            "ticks": "",
                                            "title": {
                                                "standoff": 15
                                            },
                                            "zerolinecolor": "white"
                                        },
                                        "yaxis": {
                                            "automargin": true,
                                            "gridcolor": "white",
                                            "linecolor": "white",
                                            "showgrid": true,
                                            "ticks": "",
                                            "title": {
                                                "standoff": 15
                                            },
                                            "zerolinecolor": "white"
                                        }
                                    }
                                },
                                "title": {
                                    "text": "Distribuição - Regiões"
                                },
                                "width": 700,
                                "xaxis": {
                                    "anchor": "y",
                                    "domain": [
                                        0,
                                        1
                                    ],
                                    "title": {
                                        "text": "Regiao"
                                    }
                                },
                                "yaxis": {
                                    "anchor": "x",
                                    "domain": [
                                        0,
                                        1
                                    ],
                                    "title": {
                                        "text": "Qtde"
                                    }
                                }
                            }
                        }
                    },
                    "metadata": {}
                }
            ],
            "metadata": {}
        },
        {
            "cell_type": "code",
            "execution_count": 7,
            "source": [
                "studentInfo['highest_education'].unique()"
            ],
            "outputs": [
                {
                    "output_type": "execute_result",
                    "data": {
                        "text/plain": [
                            "array(['HE Qualification', 'A Level or Equivalent', 'Lower Than A Level',\n",
                            "       'Post Graduate Qualification', 'No Formal quals'], dtype=object)"
                        ]
                    },
                    "metadata": {},
                    "execution_count": 7
                }
            ],
            "metadata": {}
        },
        {
            "cell_type": "code",
            "execution_count": 8,
            "source": [
                "studentInfo['imd_band'].unique()"
            ],
            "outputs": [
                {
                    "output_type": "execute_result",
                    "data": {
                        "text/plain": [
                            "array(['90-100%', '20-30%', '30-40%', '50-60%', '80-90%', '70-80%', nan,\n",
                            "       '60-70%', '40-50%', '10-20', '0-10%'], dtype=object)"
                        ]
                    },
                    "metadata": {},
                    "execution_count": 8
                }
            ],
            "metadata": {}
        },
        {
            "cell_type": "code",
            "execution_count": 9,
            "source": [
                "studentInfo['age_band'].unique()"
            ],
            "outputs": [
                {
                    "output_type": "execute_result",
                    "data": {
                        "text/plain": [
                            "array(['55<=', '35-55', '0-35'], dtype=object)"
                        ]
                    },
                    "metadata": {},
                    "execution_count": 9
                }
            ],
            "metadata": {}
        },
        {
            "cell_type": "code",
            "execution_count": 10,
            "source": [
                "studentInfo['num_of_prev_attempts'].unique()"
            ],
            "outputs": [
                {
                    "output_type": "execute_result",
                    "data": {
                        "text/plain": [
                            "array([0, 1, 2, 4, 3, 5, 6])"
                        ]
                    },
                    "metadata": {},
                    "execution_count": 10
                }
            ],
            "metadata": {}
        },
        {
            "cell_type": "code",
            "execution_count": 11,
            "source": [
                "studentInfo['studied_credits'].unique()"
            ],
            "outputs": [
                {
                    "output_type": "execute_result",
                    "data": {
                        "text/plain": [
                            "array([240,  60, 120,  90, 150, 180, 345, 420, 170,  80,  75, 300, 330,\n",
                            "       210, 270, 360, 135,  70, 225, 585, 325, 130, 195, 105, 655, 165,\n",
                            "       100, 390, 220, 160, 250,  30,  40,  45, 400, 235, 145, 630, 355,\n",
                            "        50, 110, 115,  55,  85, 480, 280, 175,  95, 155, 190, 315, 200,\n",
                            "       140, 540, 310, 370, 205, 215, 255,  65, 430])"
                        ]
                    },
                    "metadata": {},
                    "execution_count": 11
                }
            ],
            "metadata": {}
        },
        {
            "cell_type": "code",
            "execution_count": 13,
            "source": [
                "studentInfo['disability'].unique()"
            ],
            "outputs": [
                {
                    "output_type": "execute_result",
                    "data": {
                        "text/plain": [
                            "array(['N', 'Y'], dtype=object)"
                        ]
                    },
                    "metadata": {},
                    "execution_count": 13
                }
            ],
            "metadata": {}
        },
        {
            "cell_type": "code",
            "execution_count": 14,
            "source": [
                "studentInfo['final_result'].unique()"
            ],
            "outputs": [
                {
                    "output_type": "execute_result",
                    "data": {
                        "text/plain": [
                            "array(['Pass', 'Withdrawn', 'Fail', 'Distinction'], dtype=object)"
                        ]
                    },
                    "metadata": {},
                    "execution_count": 14
                }
            ],
            "metadata": {}
        },
        {
            "cell_type": "code",
            "execution_count": null,
            "source": [],
            "outputs": [],
            "metadata": {}
        }
    ],
    "metadata": {
        "orig_nbformat": 4,
        "language_info": {
            "name": "python",
            "version": "3.6.9",
            "mimetype": "text/x-python",
            "codemirror_mode": {
                "name": "ipython",
                "version": 3
            },
            "pygments_lexer": "ipython3",
            "nbconvert_exporter": "python",
            "file_extension": ".py"
        },
        "kernelspec": {
            "name": "python3",
            "display_name": "Python 3.6.9 64-bit"
        },
        "interpreter": {
            "hash": "31f2aee4e71d21fbe5cf8b01ff0e069b9275f58929596ceb00d14d90e3e16cd6"
        }
    },
    "nbformat": 4,
    "nbformat_minor": 2
}